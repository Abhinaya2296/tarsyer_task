{
 "cells": [
  {
   "cell_type": "code",
   "execution_count": 8,
   "id": "c046b93c",
   "metadata": {},
   "outputs": [],
   "source": [
    "\n",
    "import cv2 \n",
    "import numpy as np \n",
    "image1 = cv2.imread('Task_3.jpg') \n",
    "   \n",
    "img = cv2.cvtColor(image1, cv2.COLOR_BGR2GRAY)\n",
    "   \n",
    "thresh1 = cv2.adaptiveThreshold(img, 255, cv2.ADAPTIVE_THRESH_MEAN_C,\n",
    "                                          cv2.THRESH_BINARY, 199, 5)\n",
    "  \n",
    "thresh2 = cv2.adaptiveThreshold(img, 255, cv2.ADAPTIVE_THRESH_GAUSSIAN_C,\n",
    "                                          cv2.THRESH_BINARY, 199, 5)\n",
    "  \n",
    "\n",
    "cv2.imshow('Adaptive Mean', thresh1)\n",
    "cv2.imshow('Adaptive Gaussian', thresh2)\n",
    "\n",
    "cv2.imwrite('task3_Adaptive Mean.jpg', thresh1)\n",
    "cv2.imwrite('task3_Adaptive Gaussian.jpg', thresh2)\n",
    "  \n",
    "     \n",
    "# De-allocate any associated memory usage  \n",
    "if cv2.waitKey(0) & 0xff == 27: \n",
    "    cv2.destroyAllWindows() "
   ]
  },
  {
   "cell_type": "code",
   "execution_count": 2,
   "id": "901c7c42",
   "metadata": {},
   "outputs": [
    {
     "data": {
      "text/plain": [
       "True"
      ]
     },
     "execution_count": 2,
     "metadata": {},
     "output_type": "execute_result"
    }
   ],
   "source": [
    "import cv2\n",
    "import numpy as np\n",
    " \n",
    "\n",
    "image1 = cv2.imread('Task_3.jpg')\n",
    " \n",
    "img = cv2.cvtColor(image1, cv2.COLOR_BGR2GRAY)\n",
    "\n",
    "ret, thresh1 = cv2.threshold(img, 120, 255, cv2.THRESH_BINARY)\n",
    "\n",
    "cv2.imshow('Binary Threshold', thresh1)\n",
    "cv2.imwrite('task3_simple_Binary Threshold.jpg', thresh1)\n"
   ]
  },
  {
   "cell_type": "code",
   "execution_count": null,
   "id": "02b38728",
   "metadata": {},
   "outputs": [],
   "source": []
  }
 ],
 "metadata": {
  "kernelspec": {
   "display_name": "Python 3",
   "language": "python",
   "name": "python3"
  },
  "language_info": {
   "codemirror_mode": {
    "name": "ipython",
    "version": 3
   },
   "file_extension": ".py",
   "mimetype": "text/x-python",
   "name": "python",
   "nbconvert_exporter": "python",
   "pygments_lexer": "ipython3",
   "version": "3.6.15"
  }
 },
 "nbformat": 4,
 "nbformat_minor": 5
}
