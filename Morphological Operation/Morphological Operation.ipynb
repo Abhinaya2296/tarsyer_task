{
 "cells": [
  {
   "cell_type": "code",
   "execution_count": 1,
   "id": "4dcb35ed",
   "metadata": {},
   "outputs": [],
   "source": [
    "import cv2\n",
    "import numpy as np\n",
    "\n",
    "img = cv2.imread('Task_3.jpg',0)\n",
    "kernel = np.ones((5,5),np.uint8)\n",
    "erosion = cv2.erode(img,kernel,iterations = 1)"
   ]
  },
  {
   "cell_type": "code",
   "execution_count": 6,
   "id": "09f7c2d3",
   "metadata": {},
   "outputs": [],
   "source": [
    "cv2.imshow(\"img\",erosion)\n",
    "cv2.waitKey(0)\n",
    "cv2.imwrite('task2_erosion.jpg', img)\n",
    "  \n",
    "#closing all open windows \n",
    "cv2.destroyAllWindows()"
   ]
  },
  {
   "cell_type": "code",
   "execution_count": 7,
   "id": "1fb80b16",
   "metadata": {},
   "outputs": [],
   "source": [
    "dilation = cv2.dilate(img,kernel,iterations = 1)\n",
    "cv2.imshow(\"img\",dilation)\n",
    "cv2.waitKey(0) \n",
    "cv2.imwrite('task2_dilation.jpg', img)\n",
    "  \n",
    "#closing all open windows \n",
    "cv2.destroyAllWindows()"
   ]
  },
  {
   "cell_type": "code",
   "execution_count": 9,
   "id": "77d5603f",
   "metadata": {},
   "outputs": [],
   "source": [
    "opening = cv2.morphologyEx(img, cv2.MORPH_OPEN, kernel)\n",
    "cv2.imshow(\"img\",opening)\n",
    "cv2.waitKey(0) \n",
    "cv2.imwrite('task2_opening.jpg', img)\n",
    "  \n",
    "#closing all open windows \n",
    "cv2.destroyAllWindows()"
   ]
  },
  {
   "cell_type": "code",
   "execution_count": null,
   "id": "4a45b3c6",
   "metadata": {},
   "outputs": [],
   "source": []
  }
 ],
 "metadata": {
  "kernelspec": {
   "display_name": "Python 3",
   "language": "python",
   "name": "python3"
  },
  "language_info": {
   "codemirror_mode": {
    "name": "ipython",
    "version": 3
   },
   "file_extension": ".py",
   "mimetype": "text/x-python",
   "name": "python",
   "nbconvert_exporter": "python",
   "pygments_lexer": "ipython3",
   "version": "3.6.15"
  }
 },
 "nbformat": 4,
 "nbformat_minor": 5
}
